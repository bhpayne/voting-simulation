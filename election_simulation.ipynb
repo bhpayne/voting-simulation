{
 "cells": [
  {
   "cell_type": "markdown",
   "metadata": {},
   "source": [
    "single elected politican\n"
   ]
  },
  {
   "cell_type": "code",
   "execution_count": 5,
   "metadata": {},
   "outputs": [],
   "source": [
    "import random"
   ]
  },
  {
   "cell_type": "code",
   "execution_count": 6,
   "metadata": {},
   "outputs": [],
   "source": [
    "number_of_voters=5\n",
    "list_of_candidates=['c1','c2','c3','c4']\n",
    "list_of_interests =['i1','i2','i3']\n",
    "\n",
    "candidates_represent_interests = {'i1':{'c1':0  ,'c2':0.2,'c3':0.8,'c4':0  },\n",
    "                                  'i2':{'c1':1  ,'c2':0  ,'c3':0  ,'c4':0  },\n",
    "                                  'i3':{'c1':0.5,'c2':0.3,'c3':0  ,'c4':0.2}}"
   ]
  },
  {
   "cell_type": "code",
   "execution_count": 7,
   "metadata": {},
   "outputs": [],
   "source": [
    "list_of_voters = []\n",
    "for voter_id in range(number_of_voters):\n",
    "\n",
    "    voter_interests_and_candidates = {'interests':{}, 'candidates':{}}\n",
    "    for interest in list_of_interests:\n",
    "        voter_interests_and_candidates['interests'][interest] = random.random()\n",
    "\n",
    "    for candidate in list_of_candidates:\n",
    "        voter_interests_and_candidates['candidates'][candidate] = random.random()\n",
    "    list_of_voters.append(voter_interests_and_candidates)"
   ]
  },
  {
   "cell_type": "code",
   "execution_count": 10,
   "metadata": {},
   "outputs": [
    {
     "name": "stdout",
     "output_type": "stream",
     "text": [
      "0.4326263041991365\n",
      "0.9498419611754585\n",
      "0.4852950128780741\n",
      "0.516195439884494\n",
      "0.7227942285276691\n",
      "0.04559163900539365\n",
      "0.9762619687365491\n",
      "0.8684133975613029\n",
      "0.1740746255044957\n",
      "0.04382291772730651\n",
      "0.2734633622617074\n",
      "0.298022407941815\n",
      "0.5825314175725473\n",
      "0.5655788888948178\n",
      "0.2606467416362648\n"
     ]
    }
   ],
   "source": [
    "# redistribute interest to candidates\n",
    "list_of_voter_candidates=[]\n",
    "for voter in list_of_voters:\n",
    "    voter_candidates={}\n",
    "    for interest in voter['interests']:\n",
    "        print(voter['interests'][interest])"
   ]
  },
  {
   "cell_type": "code",
   "execution_count": 19,
   "metadata": {},
   "outputs": [
    {
     "name": "stdout",
     "output_type": "stream",
     "text": [
      "{'c1': 0.042827249173609916, 'c2': 0.04378032224104422, 'c3': 0.06260772529208836, 'c4': 0.9194351325163689}\n",
      "{'c1': 0.30470459313178766, 'c2': 0.3613552500724433, 'c3': 0.14106373387439142, 'c4': 0.8913723147260996}\n",
      "{'c1': 0.9282729815757245, 'c2': 0.1301739942998058, 'c3': 0.29756732125913965, 'c4': 0.19978957529286612}\n",
      "{'c1': 0.6754407048138633, 'c2': 0.18166782073489895, 'c3': 0.8322440952185601, 'c4': 0.4381028955028965}\n",
      "{'c1': 0.259782691571101, 'c2': 0.7064826123757026, 'c3': 0.6163936699944171, 'c4': 0.9765095543151078}\n"
     ]
    }
   ],
   "source": [
    "list_of_voters = []\n",
    "for voter_id in range(number_of_voters):\n",
    "    for candidate in list_of_candidates:\n",
    "        voter_candidates[candidate] = random.random()\n",
    "    print(voter_candidates)\n",
    "    list_of_voters.append(voter_candidates)"
   ]
  },
  {
   "cell_type": "code",
   "execution_count": 20,
   "metadata": {},
   "outputs": [
    {
     "name": "stdout",
     "output_type": "stream",
     "text": [
      "{'c1': 0.259782691571101, 'c2': 0.7064826123757026, 'c3': 0.6163936699944171, 'c4': 0.9765095543151078}\n",
      "{'c1': 0.259782691571101, 'c2': 0.7064826123757026, 'c3': 0.6163936699944171, 'c4': 0.9765095543151078}\n",
      "{'c1': 0.259782691571101, 'c2': 0.7064826123757026, 'c3': 0.6163936699944171, 'c4': 0.9765095543151078}\n",
      "{'c1': 0.259782691571101, 'c2': 0.7064826123757026, 'c3': 0.6163936699944171, 'c4': 0.9765095543151078}\n",
      "{'c1': 0.259782691571101, 'c2': 0.7064826123757026, 'c3': 0.6163936699944171, 'c4': 0.9765095543151078}\n"
     ]
    }
   ],
   "source": [
    "for voter in list_of_voters:\n",
    "    print(voter)\n",
    "#    print(max(voter, key=voter.get))"
   ]
  },
  {
   "cell_type": "code",
   "execution_count": null,
   "metadata": {},
   "outputs": [],
   "source": []
  }
 ],
 "metadata": {
  "kernelspec": {
   "display_name": "Python 3",
   "language": "python",
   "name": "python3"
  },
  "language_info": {
   "codemirror_mode": {
    "name": "ipython",
    "version": 3
   },
   "file_extension": ".py",
   "mimetype": "text/x-python",
   "name": "python",
   "nbconvert_exporter": "python",
   "pygments_lexer": "ipython3",
   "version": "3.6.7"
  }
 },
 "nbformat": 4,
 "nbformat_minor": 2
}
